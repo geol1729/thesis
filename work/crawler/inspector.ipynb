{
 "cells": [
  {
   "cell_type": "code",
   "execution_count": 1,
   "metadata": {
    "collapsed": true
   },
   "outputs": [],
   "source": [
    "import numpy as np\n",
    "import pandas as pd\n",
    "import matplotlib.pyplot as plt\n",
    "\n",
    "import json\n",
    "from pprint import pprint\n",
    "\n",
    "with open('mapsFrom_Crawl.json') as data_file:    \n",
    "    data = json.load(data_file)"
   ]
  },
  {
   "cell_type": "code",
   "execution_count": 4,
   "metadata": {
    "collapsed": false
   },
   "outputs": [
    {
     "data": {
      "text/plain": [
       "{'distance': 1,\n",
       " 'image': '//upload.wikimedia.org/wikipedia/commons/thumb/c/c2/Dymock_Village_-_geograph.org.uk_-_2745447.jpg/240px-Dymock_Village_-_geograph.org.uk_-_2745447.jpg',\n",
       " 'mapsFrom': ['Surrealism',\n",
       "  'Symbolism_(arts)',\n",
       "  'Imagism',\n",
       "  'Beat_Generation',\n",
       "  'The_Movement_(literature)',\n",
       "  'Cavalier_poet',\n",
       "  'Goliard',\n",
       "  'Metaphysical_poets',\n",
       "  'Modernist_poetry_in_English',\n",
       "  'Southern_Agrarians',\n",
       "  'La_Pl%C3%A9iade',\n",
       "  'Confessional_poetry',\n",
       "  'Objectivist_poets',\n",
       "  'Language_poets',\n",
       "  'Deep_image',\n",
       "  'Black_Mountain_poets',\n",
       "  'San_Francisco_Renaissance',\n",
       "  'British_Poetry_Revival',\n",
       "  'Generation_of_%2798',\n",
       "  'New_York_School_(art)',\n",
       "  'N%C3%A9gritude',\n",
       "  'Generation_of_%2727',\n",
       "  'Fugitives_(poets)',\n",
       "  'Uranian_poetry',\n",
       "  'The_New_American_Poetry_1945%E2%80%931960',\n",
       "  'Sons_of_Ben_(literary_group)',\n",
       "  'Harvard_Aesthetes',\n",
       "  'Rhymers%27_Club',\n",
       "  'Black_Arts_Movement',\n",
       "  'Dolce_Stil_Novo',\n",
       "  'New_Apocalyptics',\n",
       "  'Cairo_poets',\n",
       "  'Scottish_Renaissance',\n",
       "  'Spasmodic_poets',\n",
       "  'Graveyard_poets',\n",
       "  'Chhayavaad',\n",
       "  'Modernist_poetry',\n",
       "  'Postmodern_American_Poetry',\n",
       "  'Lake_Poets',\n",
       "  'The_Group_(literature)',\n",
       "  'Martian_poetry',\n",
       "  'The_poets_of_Elan',\n",
       "  'Jindyworobak_Movement',\n",
       "  'Sicilian_School',\n",
       "  'Rochester_Poets',\n",
       "  'Hungry_generation',\n",
       "  'New_Formalism',\n",
       "  'Cr%C3%A9olit%C3%A9',\n",
       "  'Cyclic_Poets',\n",
       "  'Garip',\n",
       "  'Angry_Penguins',\n",
       "  'Della_Cruscans',\n",
       "  'Misty_Poets',\n",
       "  'Parnassianism',\n",
       "  'Sung_poetry',\n",
       "  'Spam_poetry',\n",
       "  'Flarf_poetry',\n",
       "  'From_the_Other_Side_of_the_Century',\n",
       "  'Decadent_movement',\n",
       "  'Akhmatova%27s_Orphans',\n",
       "  'Auden_Group',\n",
       "  'Harlem_Renaissance',\n",
       "  '1220_in_poetry',\n",
       "  'Ecopoetry',\n",
       "  'Informationist_poetry',\n",
       "  'Quantum_Sheep',\n",
       "  'Consistori_del_Gay_Saber',\n",
       "  'Castalian_Band',\n",
       "  'The_Papelipolas',\n",
       "  'The_Poetry_Society_of_New_York'],\n",
       " 'mapsTo': [],\n",
       " 'metaData': {'country': ['United Kingdom']},\n",
       " 'rank': '0.027199',\n",
       " 'root': 'Dada',\n",
       " 'title': 'Dymock poets',\n",
       " 'url': 'Dymock_poets',\n",
       " 'wikiData': 'https://www.wikidata.org/wiki/Q1268817'}"
      ]
     },
     "execution_count": 4,
     "metadata": {},
     "output_type": "execute_result"
    }
   ],
   "source": [
    "data[85]"
   ]
  },
  {
   "cell_type": "code",
   "execution_count": null,
   "metadata": {
    "collapsed": true
   },
   "outputs": [],
   "source": []
  }
 ],
 "metadata": {
  "anaconda-cloud": {},
  "kernelspec": {
   "display_name": "Python [default]",
   "language": "python",
   "name": "python3"
  },
  "language_info": {
   "codemirror_mode": {
    "name": "ipython",
    "version": 3
   },
   "file_extension": ".py",
   "mimetype": "text/x-python",
   "name": "python",
   "nbconvert_exporter": "python",
   "pygments_lexer": "ipython3",
   "version": "3.5.2"
  }
 },
 "nbformat": 4,
 "nbformat_minor": 1
}
